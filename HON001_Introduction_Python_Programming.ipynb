{
  "nbformat": 4,
  "nbformat_minor": 0,
  "metadata": {
    "colab": {
      "name": "HON001 - Introduction Python Programming",
      "provenance": []
    },
    "kernelspec": {
      "name": "python3",
      "display_name": "Python 3"
    },
    "language_info": {
      "name": "python"
    }
  },
  "cells": [
    {
      "cell_type": "markdown",
      "source": [
        "##**Lecture 1 : Introduction to Data science**"
      ],
      "metadata": {
        "id": "3KNhJ56NHZ7Q"
      }
    },
    {
      "cell_type": "code",
      "execution_count": 46,
      "metadata": {
        "id": "sh_UcJ5HR1Xv"
      },
      "outputs": [],
      "source": [
        "import pandas as pd\n",
        "import matplotlib.pyplot as plt"
      ]
    },
    {
      "cell_type": "markdown",
      "source": [
        "Basic Syntax"
      ],
      "metadata": {
        "id": "scXTMN6daUgb"
      }
    },
    {
      "cell_type": "code",
      "source": [
        "name = input(\"Enter your name :\")\n",
        "age  = int(input(\"Enter your age :\"))\n",
        "print(\"\\nName =\",name); print(\"\\nAge =\",age)"
      ],
      "metadata": {
        "colab": {
          "base_uri": "https://localhost:8080/"
        },
        "id": "wJv5rdaDaXgM",
        "outputId": "543d5d87-0545-4ba7-d527-477e407bf348"
      },
      "execution_count": 16,
      "outputs": [
        {
          "output_type": "stream",
          "name": "stdout",
          "text": [
            "Enter your name :OHM\n",
            "Enter your age :21\n",
            "\n",
            "Name = OHM\n",
            "\n",
            "Age = 21\n"
          ]
        }
      ]
    },
    {
      "cell_type": "markdown",
      "source": [
        "Declaring Variables and Assigning Values"
      ],
      "metadata": {
        "id": "zlsnaZcTaztc"
      }
    },
    {
      "cell_type": "code",
      "source": [
        "#Number\n",
        "age = 11\n",
        "tall = 100.50\n",
        "#String\n",
        "name = \"Nour\"\n",
        "#List\n",
        "ind = [\"Book\" , \"Apple\" , 30]\n",
        "#Tuple\n",
        "tup = (1,\"Name\",4.2)\n",
        "#Dictionary\n",
        "dicti = {1: \"Burger\", 2: \"Sandwich\", 3:[1,2,3,4]}\n",
        "#Print\n",
        "print(\"Number :\",age)\n",
        "print(\"Float Number :\",tall)\n",
        "print(\"String :\",name)\n",
        "print(\"List :\",ind)\n",
        "print(\"Tuple :\",tup)\n",
        "print(\"Dictionary :\",dicti)"
      ],
      "metadata": {
        "colab": {
          "base_uri": "https://localhost:8080/"
        },
        "id": "oUCS-f66a4aw",
        "outputId": "70ba13a3-6dd0-480d-dcc3-69ffeb6eedd4"
      },
      "execution_count": 30,
      "outputs": [
        {
          "output_type": "stream",
          "name": "stdout",
          "text": [
            "Number : 11\n",
            "Float Number : 100.5\n",
            "String : Nour\n",
            "List : ['Book', 'Apple', 30]\n",
            "Tuple : (1, 'Name', 4.2)\n",
            "Dictionary : {1: 'Burger', 2: 'Sandwich', 3: [1, 2, 3, 4]}\n"
          ]
        }
      ]
    },
    {
      "cell_type": "markdown",
      "source": [
        "Date and Time Module"
      ],
      "metadata": {
        "id": "QVVD9ZRUcLmZ"
      }
    },
    {
      "cell_type": "code",
      "source": [
        "import time\n",
        "import calendar\n",
        "localtime = time.asctime(time.localtime(time.time()))\n",
        "print(\"Formatted time :\",localtime)\n",
        "print(time.localtime())\n",
        "print(time.time())"
      ],
      "metadata": {
        "colab": {
          "base_uri": "https://localhost:8080/"
        },
        "id": "oKbp_3TocOsg",
        "outputId": "b10691fe-c69f-48c1-c1df-13944a322b79"
      },
      "execution_count": 32,
      "outputs": [
        {
          "output_type": "stream",
          "name": "stdout",
          "text": [
            "Formatted time : Mon Feb  7 18:36:16 2022\n",
            "time.struct_time(tm_year=2022, tm_mon=2, tm_mday=7, tm_hour=18, tm_min=36, tm_sec=16, tm_wday=0, tm_yday=38, tm_isdst=0)\n",
            "1644258976.455477\n"
          ]
        }
      ]
    },
    {
      "cell_type": "code",
      "source": [
        "calendar.prcal(2022)\n",
        "calendar.isleap(2024) #Check leap year (29 day in february)"
      ],
      "metadata": {
        "colab": {
          "base_uri": "https://localhost:8080/"
        },
        "id": "DGKjuHjUeLB4",
        "outputId": "72036099-379d-49c2-a0f5-d91d239ed814"
      },
      "execution_count": 36,
      "outputs": [
        {
          "output_type": "stream",
          "name": "stdout",
          "text": [
            "                                  2022\n",
            "\n",
            "      January                   February                   March\n",
            "Mo Tu We Th Fr Sa Su      Mo Tu We Th Fr Sa Su      Mo Tu We Th Fr Sa Su\n",
            "                1  2          1  2  3  4  5  6          1  2  3  4  5  6\n",
            " 3  4  5  6  7  8  9       7  8  9 10 11 12 13       7  8  9 10 11 12 13\n",
            "10 11 12 13 14 15 16      14 15 16 17 18 19 20      14 15 16 17 18 19 20\n",
            "17 18 19 20 21 22 23      21 22 23 24 25 26 27      21 22 23 24 25 26 27\n",
            "24 25 26 27 28 29 30      28                        28 29 30 31\n",
            "31\n",
            "\n",
            "       April                      May                       June\n",
            "Mo Tu We Th Fr Sa Su      Mo Tu We Th Fr Sa Su      Mo Tu We Th Fr Sa Su\n",
            "             1  2  3                         1             1  2  3  4  5\n",
            " 4  5  6  7  8  9 10       2  3  4  5  6  7  8       6  7  8  9 10 11 12\n",
            "11 12 13 14 15 16 17       9 10 11 12 13 14 15      13 14 15 16 17 18 19\n",
            "18 19 20 21 22 23 24      16 17 18 19 20 21 22      20 21 22 23 24 25 26\n",
            "25 26 27 28 29 30         23 24 25 26 27 28 29      27 28 29 30\n",
            "                          30 31\n",
            "\n",
            "        July                     August                  September\n",
            "Mo Tu We Th Fr Sa Su      Mo Tu We Th Fr Sa Su      Mo Tu We Th Fr Sa Su\n",
            "             1  2  3       1  2  3  4  5  6  7                1  2  3  4\n",
            " 4  5  6  7  8  9 10       8  9 10 11 12 13 14       5  6  7  8  9 10 11\n",
            "11 12 13 14 15 16 17      15 16 17 18 19 20 21      12 13 14 15 16 17 18\n",
            "18 19 20 21 22 23 24      22 23 24 25 26 27 28      19 20 21 22 23 24 25\n",
            "25 26 27 28 29 30 31      29 30 31                  26 27 28 29 30\n",
            "\n",
            "      October                   November                  December\n",
            "Mo Tu We Th Fr Sa Su      Mo Tu We Th Fr Sa Su      Mo Tu We Th Fr Sa Su\n",
            "                1  2          1  2  3  4  5  6                1  2  3  4\n",
            " 3  4  5  6  7  8  9       7  8  9 10 11 12 13       5  6  7  8  9 10 11\n",
            "10 11 12 13 14 15 16      14 15 16 17 18 19 20      12 13 14 15 16 17 18\n",
            "17 18 19 20 21 22 23      21 22 23 24 25 26 27      19 20 21 22 23 24 25\n",
            "24 25 26 27 28 29 30      28 29 30                  26 27 28 29 30 31\n",
            "31\n"
          ]
        },
        {
          "output_type": "execute_result",
          "data": {
            "text/plain": [
              "True"
            ]
          },
          "metadata": {},
          "execution_count": 36
        }
      ]
    },
    {
      "cell_type": "markdown",
      "source": [
        "If-else Statement structure"
      ],
      "metadata": {
        "id": "AgSKcbcfeoUx"
      }
    },
    {
      "cell_type": "code",
      "source": [
        "#Comparison operators\n",
        "x = 5\n",
        "if x == 5:\n",
        "  print(\"Equal 5\")\n",
        "elif x > 5:\n",
        "  print(\"Greater than 5\")\n",
        "elif x < 5:\n",
        "  print('Less than 5')"
      ],
      "metadata": {
        "colab": {
          "base_uri": "https://localhost:8080/"
        },
        "id": "yzUYeS8gelMg",
        "outputId": "27c924e9-381f-4719-8701-bfb29b4f6b6f"
      },
      "execution_count": 37,
      "outputs": [
        {
          "output_type": "stream",
          "name": "stdout",
          "text": [
            "Equal 5\n"
          ]
        }
      ]
    },
    {
      "cell_type": "markdown",
      "source": [
        "Interation statement"
      ],
      "metadata": {
        "id": "nzhh8q92fIP5"
      }
    },
    {
      "cell_type": "code",
      "source": [
        "#use the range statement\n",
        "for a in range(1,4):\n",
        "  print(a)\n",
        "\n",
        "#Use the range statement\n",
        "for b in range(4):\n",
        "  print(b)\n",
        "\n",
        "#while loop\n",
        "ticket = 4 \n",
        "while ticket>0:\n",
        "  print(\"Your ticket number is:\",ticket)\n",
        "  ticket -=1"
      ],
      "metadata": {
        "colab": {
          "base_uri": "https://localhost:8080/"
        },
        "id": "gEkSwU63fLNv",
        "outputId": "d5a38837-0880-43e0-9199-44ab40155778"
      },
      "execution_count": 38,
      "outputs": [
        {
          "output_type": "stream",
          "name": "stdout",
          "text": [
            "1\n",
            "2\n",
            "3\n",
            "0\n",
            "1\n",
            "2\n",
            "3\n",
            "Your ticket number is: 4\n",
            "Your ticket number is: 3\n",
            "Your ticket number is: 2\n",
            "Your ticket number is: 1\n"
          ]
        }
      ]
    },
    {
      "cell_type": "markdown",
      "source": [
        "Break and Continue Statement"
      ],
      "metadata": {
        "id": "zNV2PqhTfqp0"
      }
    },
    {
      "cell_type": "code",
      "source": [
        "#Break\n",
        "for letter in 'Python3':\n",
        "  if letter == 'o':\n",
        "    break\n",
        "  print(letter)\n",
        "\n",
        "#continue\n",
        "a = 0\n",
        "while a<=5:\n",
        "  a=a+1\n",
        "  if a%2==0:\n",
        "    continue\n",
        "  print(a)\n",
        "  print(\"End of loop\")"
      ],
      "metadata": {
        "colab": {
          "base_uri": "https://localhost:8080/"
        },
        "id": "YD71ZQhLfu5U",
        "outputId": "400ef900-702f-459d-cf1c-827843e69720"
      },
      "execution_count": 39,
      "outputs": [
        {
          "output_type": "stream",
          "name": "stdout",
          "text": [
            "P\n",
            "y\n",
            "t\n",
            "h\n",
            "1\n",
            "End of loop\n",
            "3\n",
            "End of loop\n",
            "5\n",
            "End of loop\n"
          ]
        }
      ]
    },
    {
      "cell_type": "markdown",
      "source": [
        "Try and Except"
      ],
      "metadata": {
        "id": "FwL20pIggRV5"
      }
    },
    {
      "cell_type": "code",
      "source": [
        "#Try and Except\n",
        "astr = 'Al Fayoum'\n",
        "erroms = ''\n",
        "try:\n",
        "  istr=int(astr)\n",
        "except:\n",
        "  istr=-1\n",
        "  errosms=\"\\nIncorrect entry\"\n",
        "print('First Try:',istr,errosms)"
      ],
      "metadata": {
        "colab": {
          "base_uri": "https://localhost:8080/"
        },
        "id": "20xR9SlVgTmM",
        "outputId": "b8ce4d36-cd9c-4c26-b9a2-cd3d304d522e"
      },
      "execution_count": 40,
      "outputs": [
        {
          "output_type": "stream",
          "name": "stdout",
          "text": [
            "First Try: -1 \n",
            "Incorrect entry\n"
          ]
        }
      ]
    },
    {
      "cell_type": "markdown",
      "source": [
        "String Processing "
      ],
      "metadata": {
        "id": "uEfBte7_gsMc"
      }
    },
    {
      "cell_type": "code",
      "source": [
        "#String slicing\n",
        "var1 = \"Welcome to Dubai\"\n",
        "var2 = \"Python Programming\"\n",
        "print('var1[0]:',var1[0])\n",
        "print('var2[1:5]:',var2[1:5])\n",
        "#string concatenate\n",
        "st1=\"Hello\"\n",
        "st2=\"World\"\n",
        "fullst=st1+st2\n",
        "print(fullst)"
      ],
      "metadata": {
        "colab": {
          "base_uri": "https://localhost:8080/"
        },
        "id": "FvZ2KhoSgwoy",
        "outputId": "cf0ceed7-45f0-45fe-b612-46d1c44a6c75"
      },
      "execution_count": 42,
      "outputs": [
        {
          "output_type": "stream",
          "name": "stdout",
          "text": [
            "var1[0]: W\n",
            "var2[1:5]: ytho\n",
            "HelloWorld\n"
          ]
        }
      ]
    },
    {
      "cell_type": "code",
      "source": [
        "name = input(\"Enter your name: \")\n",
        "age = input(\"Enter your age: \")\n",
        "age = int(age)+1\n",
        "print(\"Name: %s\"% name,\"\\t Age:%d\"% age)"
      ],
      "metadata": {
        "colab": {
          "base_uri": "https://localhost:8080/"
        },
        "id": "Ev7McCq3hZW5",
        "outputId": "96a68050-9e99-465d-8fa8-a6c4ca547464"
      },
      "execution_count": 43,
      "outputs": [
        {
          "output_type": "stream",
          "name": "stdout",
          "text": [
            "Enter your name: OHM\n",
            "Enter your age: 21\n",
            "Name: OHM \t Age:22\n"
          ]
        }
      ]
    },
    {
      "cell_type": "code",
      "source": [
        "var1 = \" Higher Colleges of Technology \"\n",
        "var2 = \"College\"\n",
        "var3 = \"g\"\n",
        "print(var1.upper())\n",
        "print(var1.lower())\n",
        "print(\"WELCOME TO\".lower())\n",
        "print(len(var1))\n",
        "\n",
        "#Find how many string var6=g in var1\n",
        "print(var1.count(var3,2,29))\n",
        "print(var2.count(var3))\n",
        "print(var1.endswith('r'))\n",
        "print(var1.startswith('o'))\n",
        "print(var1.find('h',0,29))\n",
        "\n",
        "#It remove all leading whitespace of a string in var1\n",
        "print(var1.lstrip())\n",
        "#It removes all trailing whitespace of a string in var1\n",
        "print(var1.rstrip())\n",
        "#It removes all leading and trailing whitespace\n",
        "print(var1.strip())\n",
        "print('\\n')\n",
        "print(var1.replace('Colleges','University'))"
      ],
      "metadata": {
        "colab": {
          "base_uri": "https://localhost:8080/"
        },
        "id": "ttF80p6fh2Gt",
        "outputId": "c50bc144-1888-43fa-fab1-5d2b4fd329b6"
      },
      "execution_count": 1,
      "outputs": [
        {
          "output_type": "stream",
          "name": "stdout",
          "text": [
            " HIGHER COLLEGES OF TECHNOLOGY \n",
            " higher colleges of technology \n",
            "welcome to\n",
            "31\n",
            "3\n",
            "1\n",
            "False\n",
            "False\n",
            "4\n",
            "Higher Colleges of Technology \n",
            " Higher Colleges of Technology\n",
            "Higher Colleges of Technology\n",
            "\n",
            "\n",
            " Higher University of Technology \n"
          ]
        }
      ]
    },
    {
      "cell_type": "markdown",
      "source": [
        "Pandas dataframe"
      ],
      "metadata": {
        "id": "U3hDdvR5A2OV"
      }
    },
    {
      "cell_type": "code",
      "source": [
        "import pandas as pd\n",
        "import numpy as np\n",
        "\n",
        "data = np.array([90,75,50,66])\n",
        "s = pd.Series(data, index=['A','B','C','D'])\n",
        "print(data)\n",
        "print(s)"
      ],
      "metadata": {
        "colab": {
          "base_uri": "https://localhost:8080/"
        },
        "id": "zylsYTz5A5Gp",
        "outputId": "43c2a419-d4de-48e9-842b-c5291598fbe7"
      },
      "execution_count": 6,
      "outputs": [
        {
          "output_type": "stream",
          "name": "stdout",
          "text": [
            "[90 75 50 66]\n",
            "A    90\n",
            "B    75\n",
            "C    50\n",
            "D    66\n",
            "dtype: int64\n"
          ]
        }
      ]
    },
    {
      "cell_type": "code",
      "source": [
        "data = {'John':92,'Alex':55,'Bob':83}\n",
        "s = pd.Series(data,index = ['Alex','John','Bob'])\n",
        "print(s)"
      ],
      "metadata": {
        "colab": {
          "base_uri": "https://localhost:8080/"
        },
        "id": "5Be4UbU6BhTF",
        "outputId": "bb005aa1-fb51-4e0d-d8c5-1c8347578c3c"
      },
      "execution_count": 8,
      "outputs": [
        {
          "output_type": "stream",
          "name": "stdout",
          "text": [
            "Alex    55\n",
            "John    92\n",
            "Bob     83\n",
            "dtype: int64\n"
          ]
        }
      ]
    },
    {
      "cell_type": "code",
      "source": [
        "data = [['John',92],['Alex',55],['Bob',83]]\n",
        "df = pd.DataFrame(data, columns = ['Name','Age'])\n",
        "print(df)"
      ],
      "metadata": {
        "colab": {
          "base_uri": "https://localhost:8080/"
        },
        "id": "tkgWmFBbB2Rf",
        "outputId": "79d02f1d-6451-45e8-a8bb-6c6d5b368d67"
      },
      "execution_count": 9,
      "outputs": [
        {
          "output_type": "stream",
          "name": "stdout",
          "text": [
            "   Name  Age\n",
            "0  John   92\n",
            "1  Alex   55\n",
            "2   Bob   83\n"
          ]
        }
      ]
    },
    {
      "cell_type": "code",
      "source": [
        "df1 = df[1:]\n",
        "print(df1)"
      ],
      "metadata": {
        "colab": {
          "base_uri": "https://localhost:8080/"
        },
        "id": "ST4dmngSCuaq",
        "outputId": "5a47a84b-193e-466b-8112-e56f21188c8a"
      },
      "execution_count": 11,
      "outputs": [
        {
          "output_type": "stream",
          "name": "stdout",
          "text": [
            "   Name  Age\n",
            "1  Alex   55\n",
            "2   Bob   83\n"
          ]
        }
      ]
    },
    {
      "cell_type": "code",
      "source": [
        "data = {'Name':['John','Alex','Bob'],\n",
        "        'Age' :[92,55,83]}\n",
        "\n",
        "df = pd.DataFrame(data, index=[100,101,102])\n",
        "df1 = df['Name']\n",
        "print(df1)\n",
        "print(df)"
      ],
      "metadata": {
        "colab": {
          "base_uri": "https://localhost:8080/"
        },
        "id": "OCZXreAkDQNj",
        "outputId": "d9b79078-31d4-4697-8a49-32eeb7df0666"
      },
      "execution_count": 13,
      "outputs": [
        {
          "output_type": "stream",
          "name": "stdout",
          "text": [
            "100    John\n",
            "101    Alex\n",
            "102     Bob\n",
            "Name: Name, dtype: object\n",
            "     Name  Age\n",
            "100  John   92\n",
            "101  Alex   55\n",
            "102   Bob   83\n"
          ]
        }
      ]
    },
    {
      "cell_type": "markdown",
      "source": [
        "Abstraction of the Series and Data Frame"
      ],
      "metadata": {
        "id": "Nw1PCWGLD3nU"
      }
    },
    {
      "cell_type": "code",
      "source": [
        "quiz = {\"John\":95,\"Alex\":55 , \"Bob\":83}\n",
        "s = pd.Series(quiz)\n",
        "print(\"Series label \",s['Alex'])\n",
        "print(\"loc\",s.loc['Alex'])\n",
        "print(\"Series index \",s[1])\n",
        "print(\"iloc \",s.iloc[1])"
      ],
      "metadata": {
        "colab": {
          "base_uri": "https://localhost:8080/"
        },
        "id": "kueFGtMOD2Fp",
        "outputId": "10f7f052-9f26-4f4f-d193-3b058295f4a9"
      },
      "execution_count": 14,
      "outputs": [
        {
          "output_type": "stream",
          "name": "stdout",
          "text": [
            "Series label  55\n",
            "loc 55\n",
            "Series index  55\n",
            "iloc  55\n"
          ]
        }
      ]
    },
    {
      "cell_type": "markdown",
      "source": [
        "Inferential Analyses"
      ],
      "metadata": {
        "id": "B59R3PgUEsCB"
      }
    },
    {
      "cell_type": "code",
      "source": [
        "d = {\n",
        "    'Name': pd.Series(['Jonh','Alex','Bob','Chris','Black','Jessy','Jesica','Jam']),\n",
        "    'Age' : pd.Series([95,55,83,60,28,45,24,59]),\n",
        "    'Height' : pd.Series([175.5,160.4,164.5,180.5,168.0,170.8,190.0,184.2]) \n",
        "}\n",
        "\n",
        "df = pd.DataFrame(d)\n",
        "m  = df.mean()\n",
        "sd = df.std()\n"
      ],
      "metadata": {
        "colab": {
          "base_uri": "https://localhost:8080/"
        },
        "id": "Ah_tfgeIR7aj",
        "outputId": "8db8fb09-90c0-4cd0-baf2-3dbe93fe024b"
      },
      "execution_count": 47,
      "outputs": [
        {
          "output_type": "stream",
          "name": "stderr",
          "text": [
            "/usr/local/lib/python3.7/dist-packages/ipykernel_launcher.py:8: FutureWarning: Dropping of nuisance columns in DataFrame reductions (with 'numeric_only=None') is deprecated; in a future version this will raise TypeError.  Select only valid columns before calling the reduction.\n",
            "  \n",
            "/usr/local/lib/python3.7/dist-packages/ipykernel_launcher.py:9: FutureWarning: Dropping of nuisance columns in DataFrame reductions (with 'numeric_only=None') is deprecated; in a future version this will raise TypeError.  Select only valid columns before calling the reduction.\n",
            "  if __name__ == '__main__':\n"
          ]
        }
      ]
    },
    {
      "cell_type": "code",
      "source": [
        "print('Mean = ', m)\n",
        "print('Standard Deviation = ',sd)\n",
        "print(df.describe)"
      ],
      "metadata": {
        "colab": {
          "base_uri": "https://localhost:8080/"
        },
        "id": "4Y6Syqu-XdDC",
        "outputId": "7efdf390-6455-44b3-aa15-7d5559a5750b"
      },
      "execution_count": 48,
      "outputs": [
        {
          "output_type": "stream",
          "name": "stdout",
          "text": [
            "Mean =  Age        56.1250\n",
            "Height    174.2375\n",
            "dtype: float64\n",
            "Standard Deviation =  Age       24.509109\n",
            "Height    10.180785\n",
            "dtype: float64\n",
            "<bound method NDFrame.describe of      Name  Age  Height\n",
            "0    Jonh   95   175.5\n",
            "1    Alex   55   160.4\n",
            "2     Bob   83   164.5\n",
            "3   Chris   60   180.5\n",
            "4   Black   28   168.0\n",
            "5   Jessy   45   170.8\n",
            "6  Jesica   24   190.0\n",
            "7     Jam   59   184.2>\n"
          ]
        }
      ]
    },
    {
      "cell_type": "code",
      "source": [
        "plt.hist(df['Age'])"
      ],
      "metadata": {
        "colab": {
          "base_uri": "https://localhost:8080/",
          "height": 319
        },
        "id": "seZ3zkcuUhZ-",
        "outputId": "0b610b38-7576-4509-a058-3153eeb55b2a"
      },
      "execution_count": null,
      "outputs": [
        {
          "output_type": "execute_result",
          "data": {
            "text/plain": [
              "(array([2., 0., 1., 0., 2., 1., 0., 0., 1., 1.]),\n",
              " array([24. , 31.1, 38.2, 45.3, 52.4, 59.5, 66.6, 73.7, 80.8, 87.9, 95. ]),\n",
              " <a list of 10 Patch objects>)"
            ]
          },
          "metadata": {},
          "execution_count": 7
        },
        {
          "output_type": "display_data",
          "data": {
            "image/png": "[encoded data removed]",
            "text/plain": [
              "<Figure size 432x288 with 1 Axes>"
            ]
          },
          "metadata": {
            "needs_background": "light"
          }
        }
      ]
    },
    {
      "cell_type": "markdown",
      "source": [
        "##**Homework 1 : Basic python programming**"
      ],
      "metadata": {
        "id": "1HdMnAnhWZE1"
      }
    },
    {
      "cell_type": "markdown",
      "source": [
        "1.Write a Python script to prompt users to enter two values; then perform the basic arithmetical operations of addition, subtraction, multiplication, and division on the values."
      ],
      "metadata": {
        "id": "jvTKVbzgWlV5"
      }
    },
    {
      "cell_type": "code",
      "source": [
        "a = int(input(\"Enter your value_1 : \"))\n",
        "b = int(input(\"Enter your value_2 : \"))\n",
        "try:\n",
        "  add = a+b  #addition values\n",
        "  sub = a-b  #Subtraction values\n",
        "  mul = a*b  #multiplication values\n",
        "  div = a/b  #division values\n",
        "  print(\"Your answer is\", add , sub , mul , div)\n",
        "except:\n",
        "  print(\"Your input can't calculation\")"
      ],
      "metadata": {
        "colab": {
          "base_uri": "https://localhost:8080/"
        },
        "id": "sOpMFisgSJHl",
        "outputId": "d65413a7-db62-4d62-ec6d-ba3d6d7189f0"
      },
      "execution_count": 9,
      "outputs": [
        {
          "output_type": "stream",
          "name": "stdout",
          "text": [
            "Enter your value_1 : 20\n",
            "Enter your value_2 : 4\n",
            "Your answer is 24 16 80 5.0\n"
          ]
        }
      ]
    },
    {
      "cell_type": "markdown",
      "source": [
        "2.Write a Python script to prompt users to enter the first and last values and generate some random values between the two entered values."
      ],
      "metadata": {
        "id": "zQBYSV2oX_bs"
      }
    },
    {
      "cell_type": "code",
      "source": [
        "import random\n",
        "a = int(input(\"Enter your number1 : \"))\n",
        "b = int(input(\"Enter your number2 : \"))\n",
        "try:\n",
        "  if a < b :\n",
        "    print(\"Your random number is :\" , random.randint(a,b))\n",
        "  else :\n",
        "    c = a\n",
        "    print(\"Your random number is :\" , random.randint(b,c))\n",
        "except:\n",
        "  print(\"Programming can't random between your number\")\n",
        "  print(\"Please cheaking your number\")"
      ],
      "metadata": {
        "colab": {
          "base_uri": "https://localhost:8080/"
        },
        "id": "HZeqw8TUYFEq",
        "outputId": "f78728a2-d690-4b2d-9be4-e14dd014558d"
      },
      "execution_count": 15,
      "outputs": [
        {
          "output_type": "stream",
          "name": "stdout",
          "text": [
            "Enter your number1 : 10\n",
            "Enter your number2 : 0\n",
            "Your random number is : 4\n"
          ]
        }
      ]
    },
    {
      "cell_type": "markdown",
      "source": [
        "3.Write a program to prompt users to enter their working hours and rate per hour to calculate gross pay. The program should give the employee 1.5 times the hours worked above 30 hours. If Enter Hours is 50 and Enter Rate is 10, then the calculated payment is Pay: 550.0."
      ],
      "metadata": {
        "id": "E-u-kdbAX5h3"
      }
    },
    {
      "cell_type": "code",
      "source": [
        "a = int(input(\"Please input you working hours: \"))\n",
        "b = int(input(\"Please input you working rate: \"))\n",
        "pay = 0\n",
        "for a in range(1,a+1):\n",
        "  if a>30:\n",
        "    pay = pay+(1.5*b)\n",
        "    #print(\"%s\"% a,pay)\n",
        "  else:\n",
        "    pay = pay+(b)\n",
        "    #print(\"%s\"% a,pay)\n",
        "print(\"Your Gross pay:\",int(pay),'Bath')"
      ],
      "metadata": {
        "colab": {
          "base_uri": "https://localhost:8080/"
        },
        "id": "YiKTsWt5UoyO",
        "outputId": "fa0b3be6-13f0-4dea-c600-bc8704b5613e"
      },
      "execution_count": 17,
      "outputs": [
        {
          "output_type": "stream",
          "name": "stdout",
          "text": [
            "Please input you working hours: 50\n",
            "Please input you working rate: 10\n",
            "Your Gross pay: 600 Bath\n"
          ]
        }
      ]
    }
  ]
}