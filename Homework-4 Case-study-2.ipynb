{
 "cells": [
  {
   "cell_type": "code",
   "execution_count": 1,
   "metadata": {},
   "outputs": [],
   "source": [
    "import pandas as pd\n",
    "from pandas_profiling import ProfileReport\n",
    "import seaborn as sns\n",
    "import matplotlib.pyplot as plt\n",
    "import numpy as np\n",
    "import gdown"
   ]
  },
  {
   "cell_type": "code",
   "execution_count": 2,
   "metadata": {},
   "outputs": [
    {
     "name": "stderr",
     "output_type": "stream",
     "text": [
      "Downloading...\n",
      "From: https://drive.google.com/uc?id=1dO6gwoYA6OyhOTlgh2u3TvD8Hb3kUX1F\n",
      "To: d:\\Freshy_KMUTT_PCCMS\\HDS-YEAR-3\\HON001 Data visualization\\full_data.csv\n",
      "\n",
      "  0%|          | 0.00/7.22M [00:00<?, ?B/s]\n",
      "  7%|▋         | 524k/7.22M [00:00<00:07, 948kB/s]\n",
      " 15%|█▍        | 1.05M/7.22M [00:00<00:05, 1.13MB/s]\n",
      " 22%|██▏       | 1.57M/7.22M [00:01<00:04, 1.34MB/s]\n",
      " 29%|██▉       | 2.10M/7.22M [00:01<00:03, 1.46MB/s]\n",
      " 36%|███▋      | 2.62M/7.22M [00:01<00:02, 1.61MB/s]\n",
      " 44%|████▎     | 3.15M/7.22M [00:02<00:02, 1.86MB/s]\n",
      " 51%|█████     | 3.67M/7.22M [00:02<00:01, 2.04MB/s]\n",
      " 58%|█████▊    | 4.19M/7.22M [00:02<00:01, 2.37MB/s]\n",
      " 65%|██████▌   | 4.72M/7.22M [00:02<00:01, 2.23MB/s]\n",
      " 73%|███████▎  | 5.24M/7.22M [00:02<00:00, 2.29MB/s]\n",
      " 80%|███████▉  | 5.77M/7.22M [00:03<00:00, 2.37MB/s]\n",
      " 87%|████████▋ | 6.29M/7.22M [00:03<00:00, 2.50MB/s]\n",
      " 94%|█████████▍| 6.82M/7.22M [00:03<00:00, 2.47MB/s]\n",
      "100%|██████████| 7.22M/7.22M [00:04<00:00, 1.40MB/s]\n",
      "100%|██████████| 7.22M/7.22M [00:04<00:00, 1.75MB/s]\n",
      "[WinError 32] The process cannot access the file because it is being used by another process: 'd:\\\\Freshy_KMUTT_PCCMS\\\\HDS-YEAR-3\\\\HON001 Data visualization\\\\full_data.csvqr2eu7v2tmp'\n"
     ]
    }
   ],
   "source": [
    "!gdown --id 1dO6gwoYA6OyhOTlgh2u3TvD8Hb3kUX1F\n",
    "#Link to download dataset https://archive.ics.uci.edu/ml/datasets/iris"
   ]
  },
  {
   "cell_type": "code",
   "execution_count": 3,
   "metadata": {},
   "outputs": [
    {
     "data": {
      "text/html": [
       "<div>\n",
       "<style scoped>\n",
       "    .dataframe tbody tr th:only-of-type {\n",
       "        vertical-align: middle;\n",
       "    }\n",
       "\n",
       "    .dataframe tbody tr th {\n",
       "        vertical-align: top;\n",
       "    }\n",
       "\n",
       "    .dataframe thead th {\n",
       "        text-align: right;\n",
       "    }\n",
       "</style>\n",
       "<table border=\"1\" class=\"dataframe\">\n",
       "  <thead>\n",
       "    <tr style=\"text-align: right;\">\n",
       "      <th></th>\n",
       "      <th>Unnamed: 0</th>\n",
       "      <th>year</th>\n",
       "      <th>month</th>\n",
       "      <th>intent</th>\n",
       "      <th>police</th>\n",
       "      <th>sex</th>\n",
       "      <th>age</th>\n",
       "      <th>race</th>\n",
       "      <th>hispanic</th>\n",
       "      <th>place</th>\n",
       "      <th>education</th>\n",
       "    </tr>\n",
       "  </thead>\n",
       "  <tbody>\n",
       "    <tr>\n",
       "      <th>0</th>\n",
       "      <td>1</td>\n",
       "      <td>2012</td>\n",
       "      <td>1</td>\n",
       "      <td>Suicide</td>\n",
       "      <td>0</td>\n",
       "      <td>M</td>\n",
       "      <td>34.0</td>\n",
       "      <td>Asian/Pacific Islander</td>\n",
       "      <td>100</td>\n",
       "      <td>Home</td>\n",
       "      <td>BA+</td>\n",
       "    </tr>\n",
       "    <tr>\n",
       "      <th>1</th>\n",
       "      <td>2</td>\n",
       "      <td>2012</td>\n",
       "      <td>1</td>\n",
       "      <td>Suicide</td>\n",
       "      <td>0</td>\n",
       "      <td>F</td>\n",
       "      <td>21.0</td>\n",
       "      <td>White</td>\n",
       "      <td>100</td>\n",
       "      <td>Street</td>\n",
       "      <td>Some college</td>\n",
       "    </tr>\n",
       "    <tr>\n",
       "      <th>2</th>\n",
       "      <td>3</td>\n",
       "      <td>2012</td>\n",
       "      <td>1</td>\n",
       "      <td>Suicide</td>\n",
       "      <td>0</td>\n",
       "      <td>M</td>\n",
       "      <td>60.0</td>\n",
       "      <td>White</td>\n",
       "      <td>100</td>\n",
       "      <td>Other specified</td>\n",
       "      <td>BA+</td>\n",
       "    </tr>\n",
       "    <tr>\n",
       "      <th>3</th>\n",
       "      <td>4</td>\n",
       "      <td>2012</td>\n",
       "      <td>2</td>\n",
       "      <td>Suicide</td>\n",
       "      <td>0</td>\n",
       "      <td>M</td>\n",
       "      <td>64.0</td>\n",
       "      <td>White</td>\n",
       "      <td>100</td>\n",
       "      <td>Home</td>\n",
       "      <td>BA+</td>\n",
       "    </tr>\n",
       "    <tr>\n",
       "      <th>4</th>\n",
       "      <td>5</td>\n",
       "      <td>2012</td>\n",
       "      <td>2</td>\n",
       "      <td>Suicide</td>\n",
       "      <td>0</td>\n",
       "      <td>M</td>\n",
       "      <td>31.0</td>\n",
       "      <td>White</td>\n",
       "      <td>100</td>\n",
       "      <td>Other specified</td>\n",
       "      <td>HS/GED</td>\n",
       "    </tr>\n",
       "  </tbody>\n",
       "</table>\n",
       "</div>"
      ],
      "text/plain": [
       "   Unnamed: 0  year  month   intent  police sex   age                    race  \\\n",
       "0           1  2012      1  Suicide       0   M  34.0  Asian/Pacific Islander   \n",
       "1           2  2012      1  Suicide       0   F  21.0                   White   \n",
       "2           3  2012      1  Suicide       0   M  60.0                   White   \n",
       "3           4  2012      2  Suicide       0   M  64.0                   White   \n",
       "4           5  2012      2  Suicide       0   M  31.0                   White   \n",
       "\n",
       "   hispanic            place     education  \n",
       "0       100             Home           BA+  \n",
       "1       100           Street  Some college  \n",
       "2       100  Other specified           BA+  \n",
       "3       100             Home           BA+  \n",
       "4       100  Other specified        HS/GED  "
      ]
     },
     "execution_count": 3,
     "metadata": {},
     "output_type": "execute_result"
    }
   ],
   "source": [
    "dataset = pd.read_csv('full_data.csv')\n",
    "dataset.head()"
   ]
  },
  {
   "cell_type": "code",
   "execution_count": 4,
   "metadata": {},
   "outputs": [
    {
     "data": {
      "text/plain": [
       "Unnamed: 0       0\n",
       "year             0\n",
       "month            0\n",
       "intent           1\n",
       "police           0\n",
       "sex              0\n",
       "age             18\n",
       "race             0\n",
       "hispanic         0\n",
       "place         1384\n",
       "education     1422\n",
       "dtype: int64"
      ]
     },
     "execution_count": 4,
     "metadata": {},
     "output_type": "execute_result"
    }
   ],
   "source": [
    "null_check = dataset.isnull()\n",
    "null_check.sum()\n"
   ]
  },
  {
   "cell_type": "code",
   "execution_count": 5,
   "metadata": {},
   "outputs": [],
   "source": [
    "dataset2 = dataset.dropna()\n"
   ]
  },
  {
   "cell_type": "code",
   "execution_count": 6,
   "metadata": {},
   "outputs": [
    {
     "data": {
      "text/plain": [
       "Unnamed: 0    0\n",
       "year          0\n",
       "month         0\n",
       "intent        0\n",
       "police        0\n",
       "sex           0\n",
       "age           0\n",
       "race          0\n",
       "hispanic      0\n",
       "place         0\n",
       "education     0\n",
       "dtype: int64"
      ]
     },
     "execution_count": 6,
     "metadata": {},
     "output_type": "execute_result"
    }
   ],
   "source": [
    "null_check = dataset2.isnull()\n",
    "null_check.sum()\n"
   ]
  },
  {
   "cell_type": "code",
   "execution_count": 7,
   "metadata": {},
   "outputs": [
    {
     "data": {
      "text/plain": [
       "array(['Suicide', 'Undetermined', 'Accidental', 'Homicide'], dtype=object)"
      ]
     },
     "execution_count": 7,
     "metadata": {},
     "output_type": "execute_result"
    }
   ],
   "source": [
    "dataset2['intent'].unique()"
   ]
  },
  {
   "cell_type": "code",
   "execution_count": 35,
   "metadata": {},
   "outputs": [],
   "source": [
    "dataset3 = dataset2.groupby(\"sex\").count()\n",
    "df_bysex = dataset3['Unnamed: 0']"
   ]
  },
  {
   "cell_type": "markdown",
   "metadata": {},
   "source": [
    "Question 1: What is the number of annual suicide gun deaths in the United States from 2012 to \n",
    "2014, by gender?"
   ]
  },
  {
   "cell_type": "code",
   "execution_count": 36,
   "metadata": {},
   "outputs": [
    {
     "data": {
      "text/plain": [
       "<AxesSubplot:title={'center':'Death per year \\n 1999-2015'}, xlabel='sex'>"
      ]
     },
     "execution_count": 36,
     "metadata": {},
     "output_type": "execute_result"
    },
    {
     "data": {
      "image/png": "[encoded data removed]",
      "text/plain": [
       "<Figure size 576x396 with 1 Axes>"
      ]
     },
     "metadata": {},
     "output_type": "display_data"
    }
   ],
   "source": [
    "df_bysex.plot.bar(title='Death per year \\n 1999-2015')"
   ]
  },
  {
   "cell_type": "markdown",
   "metadata": {},
   "source": [
    "Q2 : What is the number of gun deaths by race in the United States per 100,000 people from 2012 to 2014?"
   ]
  },
  {
   "cell_type": "code",
   "execution_count": 142,
   "metadata": {},
   "outputs": [
    {
     "data": {
      "text/plain": [
       "White                             64.598\n",
       "Black                             22.675\n",
       "Hispanic                           8.603\n",
       "Asian/Pacific Islander             1.261\n",
       "Native American/Native Alaskan     0.878\n",
       "Name: race, dtype: float64"
      ]
     },
     "execution_count": 142,
     "metadata": {},
     "output_type": "execute_result"
    }
   ],
   "source": [
    "df_byRace = dataset2['race'].value_counts(ascending=False)*100/100000\n",
    "df_byRace"
   ]
  },
  {
   "cell_type": "code",
   "execution_count": 143,
   "metadata": {},
   "outputs": [
    {
     "data": {
      "text/plain": [
       "<AxesSubplot:title={'center':'number of gun deaths by race in the United States per 100,000 people \\nfrom 2012 to 2014'}>"
      ]
     },
     "execution_count": 143,
     "metadata": {},
     "output_type": "execute_result"
    },
    {
     "data": {
      "image/png": "[encoded data removed]",
      "text/plain": [
       "<Figure size 576x396 with 1 Axes>"
      ]
     },
     "metadata": {},
     "output_type": "display_data"
    }
   ],
   "source": [
    "df_byRace.plot.bar(title='number of gun deaths by race in the United States per 100,000 people \\nfrom 2012 to 2014')"
   ]
  },
  {
   "cell_type": "markdown",
   "metadata": {},
   "source": [
    "Q3 : What is the annual number of gun deaths in the United States on average from 2012 to 2014, by cause?"
   ]
  },
  {
   "cell_type": "code",
   "execution_count": 106,
   "metadata": {},
   "outputs": [
    {
     "data": {
      "text/html": [
       "<div>\n",
       "<style scoped>\n",
       "    .dataframe tbody tr th:only-of-type {\n",
       "        vertical-align: middle;\n",
       "    }\n",
       "\n",
       "    .dataframe tbody tr th {\n",
       "        vertical-align: top;\n",
       "    }\n",
       "\n",
       "    .dataframe thead th {\n",
       "        text-align: right;\n",
       "    }\n",
       "</style>\n",
       "<table border=\"1\" class=\"dataframe\">\n",
       "  <thead>\n",
       "    <tr style=\"text-align: right;\">\n",
       "      <th></th>\n",
       "      <th></th>\n",
       "      <th>Unnamed: 0</th>\n",
       "      <th>month</th>\n",
       "      <th>police</th>\n",
       "      <th>sex</th>\n",
       "      <th>age</th>\n",
       "      <th>race</th>\n",
       "      <th>hispanic</th>\n",
       "      <th>place</th>\n",
       "      <th>education</th>\n",
       "    </tr>\n",
       "    <tr>\n",
       "      <th>intent</th>\n",
       "      <th>year</th>\n",
       "      <th></th>\n",
       "      <th></th>\n",
       "      <th></th>\n",
       "      <th></th>\n",
       "      <th></th>\n",
       "      <th></th>\n",
       "      <th></th>\n",
       "      <th></th>\n",
       "      <th></th>\n",
       "    </tr>\n",
       "  </thead>\n",
       "  <tbody>\n",
       "    <tr>\n",
       "      <th rowspan=\"3\" valign=\"top\">Accidental</th>\n",
       "      <th>2012</th>\n",
       "      <td>533</td>\n",
       "      <td>533</td>\n",
       "      <td>533</td>\n",
       "      <td>533</td>\n",
       "      <td>533</td>\n",
       "      <td>533</td>\n",
       "      <td>533</td>\n",
       "      <td>533</td>\n",
       "      <td>533</td>\n",
       "    </tr>\n",
       "    <tr>\n",
       "      <th>2013</th>\n",
       "      <td>490</td>\n",
       "      <td>490</td>\n",
       "      <td>490</td>\n",
       "      <td>490</td>\n",
       "      <td>490</td>\n",
       "      <td>490</td>\n",
       "      <td>490</td>\n",
       "      <td>490</td>\n",
       "      <td>490</td>\n",
       "    </tr>\n",
       "    <tr>\n",
       "      <th>2014</th>\n",
       "      <td>575</td>\n",
       "      <td>575</td>\n",
       "      <td>575</td>\n",
       "      <td>575</td>\n",
       "      <td>575</td>\n",
       "      <td>575</td>\n",
       "      <td>575</td>\n",
       "      <td>575</td>\n",
       "      <td>575</td>\n",
       "    </tr>\n",
       "    <tr>\n",
       "      <th rowspan=\"3\" valign=\"top\">Homicide</th>\n",
       "      <th>2012</th>\n",
       "      <td>11467</td>\n",
       "      <td>11467</td>\n",
       "      <td>11467</td>\n",
       "      <td>11467</td>\n",
       "      <td>11467</td>\n",
       "      <td>11467</td>\n",
       "      <td>11467</td>\n",
       "      <td>11467</td>\n",
       "      <td>11467</td>\n",
       "    </tr>\n",
       "    <tr>\n",
       "      <th>2013</th>\n",
       "      <td>11073</td>\n",
       "      <td>11073</td>\n",
       "      <td>11073</td>\n",
       "      <td>11073</td>\n",
       "      <td>11073</td>\n",
       "      <td>11073</td>\n",
       "      <td>11073</td>\n",
       "      <td>11073</td>\n",
       "      <td>11073</td>\n",
       "    </tr>\n",
       "    <tr>\n",
       "      <th>2014</th>\n",
       "      <td>10789</td>\n",
       "      <td>10789</td>\n",
       "      <td>10789</td>\n",
       "      <td>10789</td>\n",
       "      <td>10789</td>\n",
       "      <td>10789</td>\n",
       "      <td>10789</td>\n",
       "      <td>10789</td>\n",
       "      <td>10789</td>\n",
       "    </tr>\n",
       "    <tr>\n",
       "      <th rowspan=\"3\" valign=\"top\">Suicide</th>\n",
       "      <th>2012</th>\n",
       "      <td>20360</td>\n",
       "      <td>20360</td>\n",
       "      <td>20360</td>\n",
       "      <td>20360</td>\n",
       "      <td>20360</td>\n",
       "      <td>20360</td>\n",
       "      <td>20360</td>\n",
       "      <td>20360</td>\n",
       "      <td>20360</td>\n",
       "    </tr>\n",
       "    <tr>\n",
       "      <th>2013</th>\n",
       "      <td>20892</td>\n",
       "      <td>20892</td>\n",
       "      <td>20892</td>\n",
       "      <td>20892</td>\n",
       "      <td>20892</td>\n",
       "      <td>20892</td>\n",
       "      <td>20892</td>\n",
       "      <td>20892</td>\n",
       "      <td>20892</td>\n",
       "    </tr>\n",
       "    <tr>\n",
       "      <th>2014</th>\n",
       "      <td>21039</td>\n",
       "      <td>21039</td>\n",
       "      <td>21039</td>\n",
       "      <td>21039</td>\n",
       "      <td>21039</td>\n",
       "      <td>21039</td>\n",
       "      <td>21039</td>\n",
       "      <td>21039</td>\n",
       "      <td>21039</td>\n",
       "    </tr>\n",
       "    <tr>\n",
       "      <th rowspan=\"3\" valign=\"top\">Undetermined</th>\n",
       "      <th>2012</th>\n",
       "      <td>255</td>\n",
       "      <td>255</td>\n",
       "      <td>255</td>\n",
       "      <td>255</td>\n",
       "      <td>255</td>\n",
       "      <td>255</td>\n",
       "      <td>255</td>\n",
       "      <td>255</td>\n",
       "      <td>255</td>\n",
       "    </tr>\n",
       "    <tr>\n",
       "      <th>2013</th>\n",
       "      <td>275</td>\n",
       "      <td>275</td>\n",
       "      <td>275</td>\n",
       "      <td>275</td>\n",
       "      <td>275</td>\n",
       "      <td>275</td>\n",
       "      <td>275</td>\n",
       "      <td>275</td>\n",
       "      <td>275</td>\n",
       "    </tr>\n",
       "    <tr>\n",
       "      <th>2014</th>\n",
       "      <td>267</td>\n",
       "      <td>267</td>\n",
       "      <td>267</td>\n",
       "      <td>267</td>\n",
       "      <td>267</td>\n",
       "      <td>267</td>\n",
       "      <td>267</td>\n",
       "      <td>267</td>\n",
       "      <td>267</td>\n",
       "    </tr>\n",
       "  </tbody>\n",
       "</table>\n",
       "</div>"
      ],
      "text/plain": [
       "                   Unnamed: 0  month  police    sex    age   race  hispanic  \\\n",
       "intent       year                                                             \n",
       "Accidental   2012         533    533     533    533    533    533       533   \n",
       "             2013         490    490     490    490    490    490       490   \n",
       "             2014         575    575     575    575    575    575       575   \n",
       "Homicide     2012       11467  11467   11467  11467  11467  11467     11467   \n",
       "             2013       11073  11073   11073  11073  11073  11073     11073   \n",
       "             2014       10789  10789   10789  10789  10789  10789     10789   \n",
       "Suicide      2012       20360  20360   20360  20360  20360  20360     20360   \n",
       "             2013       20892  20892   20892  20892  20892  20892     20892   \n",
       "             2014       21039  21039   21039  21039  21039  21039     21039   \n",
       "Undetermined 2012         255    255     255    255    255    255       255   \n",
       "             2013         275    275     275    275    275    275       275   \n",
       "             2014         267    267     267    267    267    267       267   \n",
       "\n",
       "                   place  education  \n",
       "intent       year                    \n",
       "Accidental   2012    533        533  \n",
       "             2013    490        490  \n",
       "             2014    575        575  \n",
       "Homicide     2012  11467      11467  \n",
       "             2013  11073      11073  \n",
       "             2014  10789      10789  \n",
       "Suicide      2012  20360      20360  \n",
       "             2013  20892      20892  \n",
       "             2014  21039      21039  \n",
       "Undetermined 2012    255        255  \n",
       "             2013    275        275  \n",
       "             2014    267        267  "
      ]
     },
     "execution_count": 106,
     "metadata": {},
     "output_type": "execute_result"
    }
   ],
   "source": [
    "df_bycause = dataset2.groupby(['intent','year']).count()\n",
    "df_bycause"
   ]
  },
  {
   "cell_type": "code",
   "execution_count": 169,
   "metadata": {},
   "outputs": [
    {
     "data": {
      "text/html": [
       "<div>\n",
       "<style scoped>\n",
       "    .dataframe tbody tr th:only-of-type {\n",
       "        vertical-align: middle;\n",
       "    }\n",
       "\n",
       "    .dataframe tbody tr th {\n",
       "        vertical-align: top;\n",
       "    }\n",
       "\n",
       "    .dataframe thead th {\n",
       "        text-align: right;\n",
       "    }\n",
       "</style>\n",
       "<table border=\"1\" class=\"dataframe\">\n",
       "  <thead>\n",
       "    <tr style=\"text-align: right;\">\n",
       "      <th></th>\n",
       "      <th>Unnamed: 0</th>\n",
       "      <th>month</th>\n",
       "      <th>police</th>\n",
       "      <th>sex</th>\n",
       "      <th>age</th>\n",
       "      <th>race</th>\n",
       "      <th>hispanic</th>\n",
       "      <th>place</th>\n",
       "      <th>education</th>\n",
       "    </tr>\n",
       "    <tr>\n",
       "      <th>intent</th>\n",
       "      <th></th>\n",
       "      <th></th>\n",
       "      <th></th>\n",
       "      <th></th>\n",
       "      <th></th>\n",
       "      <th></th>\n",
       "      <th></th>\n",
       "      <th></th>\n",
       "      <th></th>\n",
       "    </tr>\n",
       "  </thead>\n",
       "  <tbody>\n",
       "    <tr>\n",
       "      <th>Undetermined</th>\n",
       "      <td>265.666667</td>\n",
       "      <td>265.666667</td>\n",
       "      <td>265.666667</td>\n",
       "      <td>265.666667</td>\n",
       "      <td>265.666667</td>\n",
       "      <td>265.666667</td>\n",
       "      <td>265.666667</td>\n",
       "      <td>265.666667</td>\n",
       "      <td>265.666667</td>\n",
       "    </tr>\n",
       "    <tr>\n",
       "      <th>Accidental</th>\n",
       "      <td>532.666667</td>\n",
       "      <td>532.666667</td>\n",
       "      <td>532.666667</td>\n",
       "      <td>532.666667</td>\n",
       "      <td>532.666667</td>\n",
       "      <td>532.666667</td>\n",
       "      <td>532.666667</td>\n",
       "      <td>532.666667</td>\n",
       "      <td>532.666667</td>\n",
       "    </tr>\n",
       "    <tr>\n",
       "      <th>Homicide</th>\n",
       "      <td>11109.666667</td>\n",
       "      <td>11109.666667</td>\n",
       "      <td>11109.666667</td>\n",
       "      <td>11109.666667</td>\n",
       "      <td>11109.666667</td>\n",
       "      <td>11109.666667</td>\n",
       "      <td>11109.666667</td>\n",
       "      <td>11109.666667</td>\n",
       "      <td>11109.666667</td>\n",
       "    </tr>\n",
       "    <tr>\n",
       "      <th>Suicide</th>\n",
       "      <td>20763.666667</td>\n",
       "      <td>20763.666667</td>\n",
       "      <td>20763.666667</td>\n",
       "      <td>20763.666667</td>\n",
       "      <td>20763.666667</td>\n",
       "      <td>20763.666667</td>\n",
       "      <td>20763.666667</td>\n",
       "      <td>20763.666667</td>\n",
       "      <td>20763.666667</td>\n",
       "    </tr>\n",
       "  </tbody>\n",
       "</table>\n",
       "</div>"
      ],
      "text/plain": [
       "                Unnamed: 0         month        police           sex  \\\n",
       "intent                                                                 \n",
       "Undetermined    265.666667    265.666667    265.666667    265.666667   \n",
       "Accidental      532.666667    532.666667    532.666667    532.666667   \n",
       "Homicide      11109.666667  11109.666667  11109.666667  11109.666667   \n",
       "Suicide       20763.666667  20763.666667  20763.666667  20763.666667   \n",
       "\n",
       "                       age          race      hispanic         place  \\\n",
       "intent                                                                 \n",
       "Undetermined    265.666667    265.666667    265.666667    265.666667   \n",
       "Accidental      532.666667    532.666667    532.666667    532.666667   \n",
       "Homicide      11109.666667  11109.666667  11109.666667  11109.666667   \n",
       "Suicide       20763.666667  20763.666667  20763.666667  20763.666667   \n",
       "\n",
       "                 education  \n",
       "intent                      \n",
       "Undetermined    265.666667  \n",
       "Accidental      532.666667  \n",
       "Homicide      11109.666667  \n",
       "Suicide       20763.666667  "
      ]
     },
     "execution_count": 169,
     "metadata": {},
     "output_type": "execute_result"
    }
   ],
   "source": [
    "df_bycause = df_bycause.groupby(level='intent').mean().sort_values('Unnamed: 0')\n",
    "df_bycause"
   ]
  },
  {
   "cell_type": "code",
   "execution_count": 170,
   "metadata": {},
   "outputs": [],
   "source": [
    "def addlabels(x,y):\n",
    "    for i in range(len(x)):\n",
    "        plt.text(int(i),int(y[i]),int(y[i]))"
   ]
  },
  {
   "cell_type": "code",
   "execution_count": 171,
   "metadata": {},
   "outputs": [
    {
     "data": {
      "image/png": "[encoded data removed]",
      "text/plain": [
       "<Figure size 576x396 with 1 Axes>"
      ]
     },
     "metadata": {},
     "output_type": "display_data"
    }
   ],
   "source": [
    "plt.bar(df_bycause.index.values, df_bycause['Unnamed: 0'], color ='maroon',width = 0.4)\n",
    "addlabels(df_bycause.index.values, df_bycause['Unnamed: 0'])\n",
    "plt.xlabel(\"Courses offered\")\n",
    "plt.ylabel(\"No. of students enrolled\")\n",
    "plt.title(\"Students enrolled in different courses\")\n",
    "plt.show()"
   ]
  },
  {
   "cell_type": "markdown",
   "metadata": {},
   "source": [
    "Q4 : What is the percentage per 100,000 people of annual gun deaths in the United States from 2012 to 2014, by cause?"
   ]
  },
  {
   "cell_type": "code",
   "execution_count": 144,
   "metadata": {},
   "outputs": [
    {
     "data": {
      "text/plain": [
       "Suicide         62.291\n",
       "Homicide        33.329\n",
       "Accidental       1.598\n",
       "Undetermined     0.797\n",
       "Name: intent, dtype: float64"
      ]
     },
     "execution_count": 144,
     "metadata": {},
     "output_type": "execute_result"
    }
   ],
   "source": [
    "df_byintent = dataset2['intent'].value_counts(ascending=False)*100/100000\n",
    "df_byintent"
   ]
  },
  {
   "cell_type": "code",
   "execution_count": 152,
   "metadata": {},
   "outputs": [
    {
     "data": {
      "text/plain": [
       "Index(['Suicide', 'Homicide', 'Accidental', 'Undetermined'], dtype='object')"
      ]
     },
     "execution_count": 152,
     "metadata": {},
     "output_type": "execute_result"
    }
   ],
   "source": [
    "df_byintent.keys()"
   ]
  },
  {
   "cell_type": "code",
   "execution_count": 161,
   "metadata": {},
   "outputs": [
    {
     "data": {
      "image/png": "[encoded data removed]",
      "text/plain": [
       "<Figure size 720x504 with 1 Axes>"
      ]
     },
     "metadata": {},
     "output_type": "display_data"
    }
   ],
   "source": [
    "fig = plt.figure(figsize =(10, 7))\n",
    "plt.pie(df_byintent, labels = df_byintent.keys(),autopct='%1.1f%%')\n",
    "plt.title('The percentage per 100,000 people of annual gun deaths in the United States \\n from 2012 to 2014, by cause')\n",
    "plt.axis('equal')\n",
    "plt.show()"
   ]
  },
  {
   "cell_type": "markdown",
   "metadata": {},
   "source": [
    "Q5 : What is the percentage of annual suicide gun deaths in the United States from 2012 to 2014, by year?"
   ]
  },
  {
   "cell_type": "code",
   "execution_count": 165,
   "metadata": {},
   "outputs": [
    {
     "data": {
      "text/plain": [
       "2013    32730\n",
       "2014    32670\n",
       "2012    32615\n",
       "Name: year, dtype: int64"
      ]
     },
     "execution_count": 165,
     "metadata": {},
     "output_type": "execute_result"
    }
   ],
   "source": [
    "df_byyear = dataset2['year'].value_counts(ascending=False)\n",
    "df_byyear"
   ]
  },
  {
   "cell_type": "code",
   "execution_count": 166,
   "metadata": {},
   "outputs": [
    {
     "data": {
      "image/png": "[encoded data removed]",
      "text/plain": [
       "<Figure size 720x504 with 1 Axes>"
      ]
     },
     "metadata": {},
     "output_type": "display_data"
    }
   ],
   "source": [
    "fig = plt.figure(figsize =(10, 7))\n",
    "plt.pie(df_byyear, labels = df_byyear.keys(),autopct='%1.1f%%')\n",
    "plt.title('The percentage of annual suicide gun deaths in the United States \\n from 2012 to 2014 by year')\n",
    "plt.axis('equal')\n",
    "plt.show()"
   ]
  }
 ],
 "metadata": {
  "interpreter": {
   "hash": "2db524e06e9f5f4ffedc911c917cb75e12dbc923643829bf417064a77eb14d37"
  },
  "kernelspec": {
   "display_name": "Python 3.8.3 64-bit",
   "language": "python",
   "name": "python3"
  },
  "language_info": {
   "codemirror_mode": {
    "name": "ipython",
    "version": 3
   },
   "file_extension": ".py",
   "mimetype": "text/x-python",
   "name": "python",
   "nbconvert_exporter": "python",
   "pygments_lexer": "ipython3",
   "version": "3.8.3"
  },
  "orig_nbformat": 4
 },
 "nbformat": 4,
 "nbformat_minor": 2
}
