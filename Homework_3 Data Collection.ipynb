{
 "cells": [
  {
   "cell_type": "code",
   "execution_count": 48,
   "metadata": {},
   "outputs": [],
   "source": [
    "import pandas as pd\n",
    "import numpy as np\n",
    "from statistics import mean"
   ]
  },
  {
   "cell_type": "markdown",
   "metadata": {},
   "source": [
    "**Question 1 :** Write a program to create a list of names; then define a function to display all the elements in the received list. Call the function to execute its statements and display all names in the list. (Names: Ahmed, Ali, Salim, Abdullah, and Salwa)"
   ]
  },
  {
   "cell_type": "code",
   "execution_count": 41,
   "metadata": {},
   "outputs": [],
   "source": [
    "name = ['Ahmed','Ali','Salim','Abdullah','Salwa']\n",
    "def show_list(name):\n",
    "    for i in range(len(name)):\n",
    "        print(\"List value index %s\"%i,name[i])\n",
    "    print(name)"
   ]
  },
  {
   "cell_type": "code",
   "execution_count": 42,
   "metadata": {},
   "outputs": [
    {
     "name": "stdout",
     "output_type": "stream",
     "text": [
      "List value index 0 Ahmed\n",
      "List value index 1 Ali\n",
      "List value index 2 Salim\n",
      "List value index 3 Abdullah\n",
      "List value index 4 Salwa\n",
      "['Ahmed', 'Ali', 'Salim', 'Abdullah', 'Salwa']\n"
     ]
    }
   ],
   "source": [
    "show_list(name)"
   ]
  },
  {
   "cell_type": "markdown",
   "metadata": {},
   "source": [
    "**Question 2 :** Write a program to create a series to maintain five students’ names above and GPA values. (GPA: 2.5, 3.0, 2.5, 3.5, 4.0)"
   ]
  },
  {
   "cell_type": "code",
   "execution_count": 43,
   "metadata": {},
   "outputs": [
    {
     "data": {
      "text/plain": [
       "Ahmed       2.5\n",
       "Ali         3.0\n",
       "Salim       2.5\n",
       "Abdullah    3.5\n",
       "Salwa       4.0\n",
       "dtype: float64"
      ]
     },
     "execution_count": 43,
     "metadata": {},
     "output_type": "execute_result"
    }
   ],
   "source": [
    "GPA = pd.Series([2.5,3.0,2.5,3.5,4.0],index=name)\n",
    "GPA"
   ]
  },
  {
   "cell_type": "markdown",
   "metadata": {},
   "source": [
    "**Question 3 :** Write a program to create a data frame to maintain three students’ names associated with their grades in three courses and then add a new column named Mean to maintain the calculated mean mark per course. Display the final data frame.\n"
   ]
  },
  {
   "cell_type": "code",
   "execution_count": 45,
   "metadata": {},
   "outputs": [
    {
     "data": {
      "text/html": [
       "<div>\n",
       "<style scoped>\n",
       "    .dataframe tbody tr th:only-of-type {\n",
       "        vertical-align: middle;\n",
       "    }\n",
       "\n",
       "    .dataframe tbody tr th {\n",
       "        vertical-align: top;\n",
       "    }\n",
       "\n",
       "    .dataframe thead th {\n",
       "        text-align: right;\n",
       "    }\n",
       "</style>\n",
       "<table border=\"1\" class=\"dataframe\">\n",
       "  <thead>\n",
       "    <tr style=\"text-align: right;\">\n",
       "      <th></th>\n",
       "      <th>Ahmed</th>\n",
       "      <th>Ali</th>\n",
       "      <th>Salim</th>\n",
       "      <th>Abdullah</th>\n",
       "      <th>Salwa</th>\n",
       "    </tr>\n",
       "  </thead>\n",
       "  <tbody>\n",
       "    <tr>\n",
       "      <th>Course1</th>\n",
       "      <td>65</td>\n",
       "      <td>70</td>\n",
       "      <td>69</td>\n",
       "      <td>75</td>\n",
       "      <td>92</td>\n",
       "    </tr>\n",
       "    <tr>\n",
       "      <th>Course2</th>\n",
       "      <td>60</td>\n",
       "      <td>78</td>\n",
       "      <td>68</td>\n",
       "      <td>80</td>\n",
       "      <td>94</td>\n",
       "    </tr>\n",
       "    <tr>\n",
       "      <th>Course3</th>\n",
       "      <td>78</td>\n",
       "      <td>80</td>\n",
       "      <td>72</td>\n",
       "      <td>84</td>\n",
       "      <td>98</td>\n",
       "    </tr>\n",
       "  </tbody>\n",
       "</table>\n",
       "</div>"
      ],
      "text/plain": [
       "         Ahmed  Ali  Salim  Abdullah  Salwa\n",
       "Course1     65   70     69        75     92\n",
       "Course2     60   78     68        80     94\n",
       "Course3     78   80     72        84     98"
      ]
     },
     "execution_count": 45,
     "metadata": {},
     "output_type": "execute_result"
    }
   ],
   "source": [
    "point = {'Ahmed':[65,60,78],'Ali':[70,78,80],'Salim':[69,68,72],'Abdullah':[75,80,84],'Salwa':[92,94,98]}\n",
    "name_course = ['Course1','Course2','Course3']\n",
    "df = pd.DataFrame(point,index=name_course)\n",
    "df"
   ]
  },
  {
   "cell_type": "code",
   "execution_count": 56,
   "metadata": {},
   "outputs": [
    {
     "data": {
      "text/html": [
       "<div>\n",
       "<style scoped>\n",
       "    .dataframe tbody tr th:only-of-type {\n",
       "        vertical-align: middle;\n",
       "    }\n",
       "\n",
       "    .dataframe tbody tr th {\n",
       "        vertical-align: top;\n",
       "    }\n",
       "\n",
       "    .dataframe thead th {\n",
       "        text-align: right;\n",
       "    }\n",
       "</style>\n",
       "<table border=\"1\" class=\"dataframe\">\n",
       "  <thead>\n",
       "    <tr style=\"text-align: right;\">\n",
       "      <th></th>\n",
       "      <th>Ahmed</th>\n",
       "      <th>Ali</th>\n",
       "      <th>Salim</th>\n",
       "      <th>Abdullah</th>\n",
       "      <th>Salwa</th>\n",
       "      <th>Mean</th>\n",
       "    </tr>\n",
       "  </thead>\n",
       "  <tbody>\n",
       "    <tr>\n",
       "      <th>Course1</th>\n",
       "      <td>65</td>\n",
       "      <td>70</td>\n",
       "      <td>69</td>\n",
       "      <td>75</td>\n",
       "      <td>92</td>\n",
       "      <td>74.2</td>\n",
       "    </tr>\n",
       "    <tr>\n",
       "      <th>Course2</th>\n",
       "      <td>60</td>\n",
       "      <td>78</td>\n",
       "      <td>68</td>\n",
       "      <td>80</td>\n",
       "      <td>94</td>\n",
       "      <td>76.0</td>\n",
       "    </tr>\n",
       "    <tr>\n",
       "      <th>Course3</th>\n",
       "      <td>78</td>\n",
       "      <td>80</td>\n",
       "      <td>72</td>\n",
       "      <td>84</td>\n",
       "      <td>98</td>\n",
       "      <td>82.4</td>\n",
       "    </tr>\n",
       "  </tbody>\n",
       "</table>\n",
       "</div>"
      ],
      "text/plain": [
       "         Ahmed  Ali  Salim  Abdullah  Salwa  Mean\n",
       "Course1     65   70     69        75     92  74.2\n",
       "Course2     60   78     68        80     94  76.0\n",
       "Course3     78   80     72        84     98  82.4"
      ]
     },
     "execution_count": 56,
     "metadata": {},
     "output_type": "execute_result"
    }
   ],
   "source": [
    "df['Mean'] = df.mean(numeric_only=True,axis=1) #because axis the value can return\n",
    "df"
   ]
  }
 ],
 "metadata": {
  "interpreter": {
   "hash": "2db524e06e9f5f4ffedc911c917cb75e12dbc923643829bf417064a77eb14d37"
  },
  "kernelspec": {
   "display_name": "Python 3.8.3 64-bit",
   "language": "python",
   "name": "python3"
  },
  "language_info": {
   "codemirror_mode": {
    "name": "ipython",
    "version": 3
   },
   "file_extension": ".py",
   "mimetype": "text/x-python",
   "name": "python",
   "nbconvert_exporter": "python",
   "pygments_lexer": "ipython3",
   "version": "3.8.3"
  },
  "orig_nbformat": 4
 },
 "nbformat": 4,
 "nbformat_minor": 2
}
